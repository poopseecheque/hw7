{
 "cells": [
  {
   "cell_type": "code",
   "execution_count": 8,
   "id": "2ded3cf4-737c-4cfe-ad1e-763c27ccb3b8",
   "metadata": {},
   "outputs": [
    {
     "name": "stdin",
     "output_type": "stream",
     "text": [
      "a=  5\n",
      "b=  3\n",
      "c=  1\n"
     ]
    },
    {
     "name": "stdout",
     "output_type": "stream",
     "text": [
      "1   3   5\n"
     ]
    }
   ],
   "source": [
    "a = int(input(\"a= \"))\n",
    "b = int(input(\"b= \"))\n",
    "c = int(input(\"c= \"))\n",
    "\n",
    "#flow to output sorted values\n",
    "if a>b:\n",
    "    x=a\n",
    "    a=b\n",
    "    b=x #we sorted for be to be before a\n",
    "if a>c:\n",
    "    n=a\n",
    "    a=c\n",
    "    c=n\n",
    "if b>c:\n",
    "    m=b\n",
    "    b=c\n",
    "    c=m\n",
    "print(a,' ',b,' ', c)"
   ]
  },
  {
   "cell_type": "code",
   "execution_count": 27,
   "id": "288ab2b4-9cc4-4302-ad76-fca15237966f",
   "metadata": {
    "tags": []
   },
   "outputs": [
    {
     "name": "stdout",
     "output_type": "stream",
     "text": [
      "3\n"
     ]
    }
   ],
   "source": [
    "prices = {'milk':80,'water':40, 'banana':90}\n",
    "mylist = [1, \"two\", [\"nested\", 4, 5], prices, \"five\", \"six\"]\n",
    "num_of_strings=0\n",
    "for i in mylist:\n",
    "    if type(i)==str:\n",
    "        num_of_strings+=1\n",
    "print(num_of_strings)"
   ]
  }
 ],
 "metadata": {
  "kernelspec": {
   "display_name": "Python 3 (ipykernel)",
   "language": "python",
   "name": "python3"
  },
  "language_info": {
   "codemirror_mode": {
    "name": "ipython",
    "version": 3
   },
   "file_extension": ".py",
   "mimetype": "text/x-python",
   "name": "python",
   "nbconvert_exporter": "python",
   "pygments_lexer": "ipython3",
   "version": "3.10.9"
  }
 },
 "nbformat": 4,
 "nbformat_minor": 5
}
